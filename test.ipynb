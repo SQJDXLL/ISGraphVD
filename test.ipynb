{
 "cells": [
  {
   "cell_type": "code",
   "execution_count": 22,
   "metadata": {},
   "outputs": [],
   "source": [
    "import os\n",
    "\n",
    "nwords = [\"hx\", \"zion\", \"zyl\", \"dslab\"]\n",
    "\n",
    "for root, dirs, files in os.walk(\"./\"):\n",
    "    for file in files:\n",
    "        if file.endswith(\"ipynb\"):\n",
    "            continue\n",
    "\n",
    "        if root.startswith(\"./.\"):\n",
    "            continue\n",
    "\n",
    "        fp = os.path.join(root, file)\n",
    "        try:\n",
    "            f = open(fp, \"r\")\n",
    "            text = f.read()\n",
    "            f.close()\n",
    "            flag = False\n",
    "            for nw in nwords:\n",
    "                if nw in text:\n",
    "                    flag = True\n",
    "                    text = text.replace(nw, \"anonymous\")\n",
    "            if flag:\n",
    "                f = open(fp, \"w\")\n",
    "                f.write(text)\n",
    "                f.close()\n",
    "        except:\n",
    "            continue"
   ]
  },
  {
   "cell_type": "code",
   "execution_count": null,
   "metadata": {},
   "outputs": [],
   "source": []
  }
 ],
 "metadata": {
  "kernelspec": {
   "display_name": "kg",
   "language": "python",
   "name": "python3"
  },
  "language_info": {
   "codemirror_mode": {
    "name": "ipython",
    "version": 3
   },
   "file_extension": ".py",
   "mimetype": "text/x-python",
   "name": "python",
   "nbconvert_exporter": "python",
   "pygments_lexer": "ipython3",
   "version": "3.11.8"
  }
 },
 "nbformat": 4,
 "nbformat_minor": 2
}
